{
 "cells": [
  {
   "cell_type": "markdown",
   "metadata": {},
   "source": [
    "# Pointwise Convergence of the Taylor Series\n",
    "© Kelly McQuighan 2017"
   ]
  },
  {
   "cell_type": "markdown",
   "metadata": {},
   "source": [
    "## Introduction\n",
    "\n",
    "The purpose of this notebook is to understand the **pointwise convergence** of a function with specific applications to the Taylor Series.\n",
    "\n",
    "The idea of the Taylor series is that we want to approximate a function $f(x)$ using an $n$th degree polynomial $p_n(x)$. Recall that the **degree** of a polynomial is the highest power of it's term; for example, $g(x) = 1-3x^2+x^12$ is a 12th order polynomial. We \"center\" the polynomial about some point $x=a$ so that $p_n(a) = f(a)$ (i.e. the approximation is exact at $x=a$). We then hope that $p_n(x)$ is a \"pretty good\" approximation for $f(x)$ as long as $x$ is very close to $a$. The way that we accomplish this is by ensuring that the first $n$ derivatives of $p(x)$ exactly match the corresponding derivaties of $f(x)$ **at the point** $x=a$. For example, the 5th order approximation of $f(x) = \\sin(x)$ centered at $a=0$ is $p_5(x) = x-\\frac {x^3}{6}+\\frac{x^5}{120}$. This satisfies our requirement about the derivatives since\n",
    "\\begin{alignat}{7}\n",
    "p_5(x) &= x-\\frac {x^3}{6}+\\frac{x^5}{120} &\\implies& p_5(0) &=&\\; 0 \\qquad&\\text{and}&\\qquad f(x) &=& \\;\\sin(x)&\\implies& f(0) &=& \\;0\\\\\n",
    "p_5'(x) &= 1-\\frac {x^2}{2}+\\frac{x^4}{24} &\\implies& p_5'(0) &=& \\;1 \\qquad&\\text{and}&\\qquad f'(x) &=& \\;\\cos(x)&\\implies& f'(0) &=&\\; 1\\\\\n",
    "p_5''(x) &= -x+\\frac{x^3}{6} &\\implies& p_5''(0) &=& \\;0 \\qquad&\\text{and}&\\qquad f''(x) &=&\\; -\\sin(x)&\\implies& f''(0) &=&\\; 0\\\\\n",
    "p_5'''(x) &= -1+\\frac{x^2}{2} &\\implies& p_5'''(0) &=&\\; -1 \\qquad&\\text{and}&\\qquad f'''(x) &=& \\;-\\cos(x)&\\implies& f'''(0) &=& \\;-1\\\\\n",
    "p_5^{(4)}(x) &= x &\\implies& p_5^{(4)}(0) &=& \\;0 \\qquad&\\text{and}&\\qquad f^{(4)}(x) &=&\\; \\sin(x)&\\implies& f^{(4)}(0) &=& \\;0\\\\\n",
    "p_5^{(5)}(x) &= 1 &\\implies& p_5^{(5)}(0) &=& \\;1 \\qquad&\\text{and}&\\qquad f^{(5)}(x) &=& \\;\\cos(x)&\\implies& f^{(5)}(0) &=& \\;1\n",
    "\\end{alignat}\n",
    "\n",
    "We can ensure that the nth degree polynomial approximation to any $n$-times differentiable function satisfies this derivative requirement by using the Taylor polynomial formula to find $p_n(x)$\n",
    "\n",
    "**Definition (Taylor Polynomial)** \n",
    "\n",
    "*Let $f(x)$ be a continuous function that is n-times continuously differentiable at $x=a$. Then nth degree Taylor polynomial for $f(x)$ is given by \n",
    "$$\\sum_{k=0}^n \\frac{f^{(k)}(a)}{k!}(x-a)^k$$\n",
    "*\n",
    "\n",
    "The question we're interested in is: when does $\\lim_{n\\to\\infty} \\sum_{k=0}^n \\frac{f^{(k)}(a)}{k!}(x-a)^k = f(x)$? When it converges we call $\\sum_{k=0}^\\infty \\frac{f^{(k)}(a)}{k!}(x-a)^k = f(x)$ the **Taylor series** of $f(x)$. \n",
    "\n",
    "## Set-up\n",
    "\n",
    "The notebook relies on Python code. To initialize the notebook ** Select Cell->Run All Below**\n",
    "\n",
    "### Pointwise Convergence\n",
    "\n",
    "For any fixed value of $x$, the Taylor series formula is just an infinite series of numbers. Therefore, we can use techniques we already know about the convergence of infinite series to study the convergence of the Taylor series for any **fixed** x; this type of convergence is known as **pointwise convergence** because we're studying the convergence of the function at every point. \n",
    "\n",
    "The simulation below shows how the Taylor polynomial approximation to $f(x)$ changes as we increase $n$. The figure in the right column shows how the approximation of $f(x)$ for a **specific** $x$ changes as we increase n. \n",
    "\n",
    "**Do:** \n",
    "\n",
    "(1) Move $x$ around and make sure that you understand how the figure on the right is related to the figure on the left. \n",
    "\n",
    "(2) Make sure you test the value $x=a$ to verify that $p_n(a) = f(a)$ for all $n$; try this for different values of $a$.\n",
    "\n",
    "**Consider:**\n",
    "\n",
    "(1) What does it mean to say $\\lim_{n\\to\\infty} p_n(x) = f(x)$ for a fixed value of $x$?\n",
    "\n",
    "**Some functions to try**\n",
    "- any polynomial function, like x\\*\\*2-x+4\n",
    "- sin(x), cos(x)\n",
    "- exp(x)\n",
    "- sqrt(x)\n",
    "- log(x+1)\n",
    "- 1./(x+1)"
   ]
  },
  {
   "cell_type": "code",
   "execution_count": 1,
   "metadata": {
    "collapsed": false,
    "init_cell": false,
    "scrolled": true
   },
   "outputs": [],
   "source": [
    "from ipywidgets import interactive,HBox, VBox, Layout, Label, FloatSlider, IntSlider, Text, Checkbox\n",
    "import ipywidgets as widgets\n",
    "%matplotlib inline\n",
    "import TaylorSeriesTools as TST\n",
    "from IPython.display import display\n",
    "items_layout = Layout(flex = '1 1 auto', width='50%', justify_content = 'flex-start')\n",
    "box_layout = Layout(display='flex', justify_content = 'space-around', align_content='stretch', width = '80%')"
   ]
  },
  {
   "cell_type": "code",
   "execution_count": 2,
   "metadata": {
    "collapsed": false
   },
   "outputs": [
    {
     "data": {
      "application/javascript": [
       "IPython.OutputArea.prototype._should_scroll = function(lines) {\n",
       "    return false;\n",
       "}"
      ],
      "text/plain": [
       "<IPython.core.display.Javascript object>"
      ]
     },
     "metadata": {},
     "output_type": "display_data"
    }
   ],
   "source": [
    "%%javascript\n",
    "IPython.OutputArea.prototype._should_scroll = function(lines) {\n",
    "    return false;\n",
    "}"
   ]
  },
  {
   "cell_type": "code",
   "execution_count": 3,
   "metadata": {
    "collapsed": false,
    "scrolled": true
   },
   "outputs": [],
   "source": [
    "#DO NOT CHANGE ANYTHING IN THIS BOX\n",
    "f_box = Text(layout=items_layout, description=r'$f(x)=$')\n",
    "a_slider = FloatSlider(min=-10.,max=10., step=0.1, value=0.,layout=items_layout)\n",
    "x_slider = FloatSlider(min=-10., max=10., step=0.1, value=1.,layout=items_layout, description='$x$')\n",
    "n_slider = IntSlider(min=0, max=17, step=1, value=0,layout=items_layout)\n",
    "xmin_slider = FloatSlider(min=-10.,max=10., step=0.1, value=-4.,layout=items_layout,description=r'$x_{min}$')\n",
    "xmax_slider = FloatSlider(min=-10.,max=10., step=0.1, value=4.,layout=items_layout,description=r'$x_{max}$')\n",
    "ymin_slider = FloatSlider(min=-10.,max=10., step=0.1, value=-1.1,layout=items_layout,description=r'$y_{min}$')\n",
    "ymax_slider = FloatSlider(min=-10.,max=10., step=0.1, value=1.1,layout=items_layout,description=r'$y_{max}$')\n",
    "poly_box = Checkbox(value=False,layout=items_layout,description=\" \")\n",
    "interactive(TST.polynomial, f=f_box, a=a_slider, x0=x_slider, n=n_slider, \n",
    "         xmin=xmin_slider, xmax=xmax_slider, ymin = ymin_slider, ymax = ymax_slider,\n",
    "        display_polynomial = poly_box);\n",
    "VBox([HBox([f_box, a_slider]),HBox([x_slider, n_slider]),\n",
    "      HBox([xmin_slider, xmax_slider]),HBox([ymin_slider, ymax_slider]),\n",
    "      HBox([Label(value='display polynomial:'),poly_box])],layout=box_layout)"
   ]
  },
  {
   "cell_type": "markdown",
   "metadata": {},
   "source": [
    "### The remainder\n",
    "\n",
    "For the purpose of showing rigorously that the Taylor series converges to $f(x)$ for a specific choice $x$ we typically show that the error goes to zero. We let $R_n(x) = f(x) - p_n(x)$, which we call the **remainder**. Then, in order to show $\\lim_{n\\to\\infty} p_n(x) = f(x)$ we instead show $\\lim_{n\\to\\infty} R_n(x) = 0$. \n",
    "\n",
    "The plots below show the remainder function $R_n(x)$ in the left column and the value of this function at a specific choice of $x$ in the right column. \n",
    "\n",
    "**DO:**\n",
    "\n",
    "(1) Run the same experiments as above in order to understand the pointwise convergence of the remainder to 0.\n",
    "\n",
    "(2) Make sure that you understand how the plots of the remainder $R_n(x)$ are related to the plots of the Taylor polynomial $p_n(x)$"
   ]
  },
  {
   "cell_type": "code",
   "execution_count": 4,
   "metadata": {
    "collapsed": false
   },
   "outputs": [],
   "source": [
    "#DO NOT CHANGE ANYTHING IN THIS BOX\n",
    "f_box = Text(layout=items_layout, description=r'$f(x)=$')\n",
    "a_slider = FloatSlider(min=-10.,max=10., step=0.1, value=0., layout=items_layout)\n",
    "x_slider = FloatSlider(min=-10., max=10., step=0.1, value=1., layout=items_layout, description=r'$x$')\n",
    "n_slider = IntSlider(min=0, max=17, step=1, value=0, layout=items_layout)\n",
    "xmin_slider = FloatSlider(min=-10.,max=10., step=0.1, value=-4., layout=items_layout, description=r'$x_{min}$')\n",
    "xmax_slider = FloatSlider(min=-10.,max=10., step=0.1, value=4., layout=items_layout, description=r'$x_{max}$')\n",
    "ymin_slider = FloatSlider(min=-10.,max=10., step=0.1, value=-1., layout=items_layout, description=r'$y_{min}$')\n",
    "ymax_slider = FloatSlider(min=-10.,max=10., step=0.1, value=1., layout=items_layout, description=r'$y_{max}$')\n",
    "interactive(TST.remainder, f=f_box, a=a_slider, x0=x_slider, n=n_slider, \n",
    "         xmin=xmin_slider, xmax=xmax_slider, ymin = ymin_slider, ymax = ymax_slider);\n",
    "VBox([HBox([f_box, a_slider]),HBox([x_slider, n_slider]),\n",
    "      HBox([xmin_slider, xmax_slider]),HBox([ymin_slider, ymax_slider])], layout=box_layout)"
   ]
  },
  {
   "cell_type": "markdown",
   "metadata": {},
   "source": [
    "### Remainder Error Bound\n",
    "\n",
    "Our strategy to show that the remainder goes to zero has one problem: the reason we use the Taylor series to begin with is that we don't know the value of $f(x)$. Without knowing the value of $f(x)$ so how can we compute $R_n(x)$, and without knowing $R_n(x)$ how can we show that it converges to zero? The key is that we do not need the exact value of $R_n(x)$ if we can define a good **upper bound**. Taylor's Remainder Theorem gives such a bound. \n",
    "\n",
    "**Theorem (Taylor's Remainder Theorem)**\n",
    "\n",
    "*Let $f(x)$ be a continuous function that is (n+1)-times continuously differentiable at $x=a$. Then the error made by the nth degree Taylor approximation $R_n(x) = f(x)-p_n(x)$ in any open interval $I$ containing $a$ ($a\\in I$) is bounded by\n",
    "$$\\left|R_n(x)\\right|\\le\\frac{M}{(n+1)!}(x-a)^{n+1}\\qquad\\text{where } M = \\sup_{x\\in I} \\left|\\;f^{(n+1)}(x)\\right|$$\n",
    "*\n",
    "\n",
    "In this simulation I show the absolute value of the remainder $\\left|R_n(x)\\right|$ and the upper bound given by Taylor's Remainder Theorem. Observe that $\\left|R_n(x)\\right|$ is less than or equal to the upper bound for all $x$. Also observe that the upper bound depends on $x$ so that the further you get away from $x=a$ the approximation becomes worse.\n",
    "\n",
    "**Example: $f(x) = \\sin(x)$ centered at $a=0$**\n",
    "\n",
    "We want to show that $\\lim_{n\\to\\infty} p_n(x) = f(x)$ for all $x$. Using Taylor's Remainder Theorem we know\n",
    "$$\\left|R_n(x)\\right|\\le\\frac{1}{(n+1)!}x^{n+1}$$\n",
    "since $\\left|f^{(n)}(x)\\right|\\le 1$ for all $n$ and $x$ (this follows from the fact that $\\left|f^{(n)}(x)\\right|$ is either $\\left|\\sin(x)\\right|$ or $\\left|\\cos(x)\\right|$ and both of these functions are bonded by $1$). Fix $x$; then $\\lim_{n\\to\\infty} \\frac{x^{n+1}}{(n+1)!} = 0$ since $x^n << n!$ (see the Notebook on Growth Rates of Sequences). Thus $\\lim_{n\\to\\infty}\\left|R_n(x)\\right| = 0$ for all $x$. \n",
    "\n",
    "It was important in the above proof that we first fixed $x$ before taking the limit. This is OK since we're interested in pointwise convergence."
   ]
  },
  {
   "cell_type": "code",
   "execution_count": 5,
   "metadata": {
    "collapsed": false
   },
   "outputs": [],
   "source": [
    "#DO NOT CHANGE ANYTHING IN THIS BOX\n",
    "f_box = Text(layout=items_layout, description=r'$f(x)=$')\n",
    "a_slider = FloatSlider(min=-10.,max=10., step=0.1, value=0., layout=items_layout)\n",
    "x_slider = FloatSlider(min=-10., max=10., step=0.1, value=1., layout=items_layout, description=r'$x$')\n",
    "n_slider = IntSlider(min=0, max=17, step=1, value=0, layout=items_layout)\n",
    "xmin_slider = FloatSlider(min=-10.,max=10., step=0.1, value=-4., layout=items_layout, description=r'$x_{min}$')\n",
    "xmax_slider = FloatSlider(min=-10.,max=10., step=0.1, value=4., layout=items_layout, description=r'$x_{max}$')\n",
    "interactive(TST.error_bound, f=f_box, a=a_slider, x0=x_slider, n=n_slider, \n",
    "         xmin=xmin_slider, xmax=xmax_slider);\n",
    "VBox([HBox([f_box, a_slider]),HBox([x_slider, n_slider]),\n",
    "      HBox([xmin_slider, xmax_slider])], layout=box_layout)"
   ]
  },
  {
   "cell_type": "markdown",
   "metadata": {},
   "source": [
    "### All together\n",
    "It can be helpful to view the Taylor polynomial, its remainder, and the bound on the remainder at the same time, so this final plot shows all of these functions at once. However, computing this many objects takes a lot of time so the interactive feature will likely be slow."
   ]
  },
  {
   "cell_type": "code",
   "execution_count": 6,
   "metadata": {
    "collapsed": false
   },
   "outputs": [],
   "source": [
    "#DO NOT CHANGE ANYTHING IN THIS BOX\n",
    "f_box = Text(layout=items_layout, description=r'$f(x)=$')\n",
    "a_slider = FloatSlider(min=-10.,max=10., step=0.1, value=0., layout=items_layout)\n",
    "x_slider = FloatSlider(min=-10., max=10., step=0.1, value=1., layout=items_layout, description=r'$x$')\n",
    "n_slider = IntSlider(min=0, max=17, step=1, value=0, layout=items_layout)\n",
    "xmin_slider = FloatSlider(min=-10.,max=10., step=0.1, value=-4., layout=items_layout, description=r'$x_{min}$')\n",
    "xmax_slider = FloatSlider(min=-10.,max=10., step=0.1, value=4., layout=items_layout, description=r'$x_{max}$')\n",
    "ymin_slider = FloatSlider(min=-10.,max=10., step=0.1, value=-1.1, layout=items_layout, description=r'$y_{min}$ function')\n",
    "ymax_slider = FloatSlider(min=-10.,max=10., step=0.1, value=1.1, layout=items_layout, description=r'$y_{max}$ function')\n",
    "ymin_slider2 = FloatSlider(min=-10.,max=10., step=0.1, value=-1., layout=items_layout, description=r'$y_{min}$ remainder')\n",
    "ymax_slider2 = FloatSlider(min=-10.,max=10., step=0.1, value=1., layout=items_layout, description=r'$y_{max}$ remainder')\n",
    "interactive(TST.all_tools, f=f_box, a=a_slider, x0=x_slider, n=n_slider, \n",
    "         xmin=xmin_slider, xmax=xmax_slider, ymin = ymin_slider, ymax = ymax_slider,\n",
    "         ymin_remainder = ymin_slider2, ymax_remainder = ymax_slider2);\n",
    "VBox([HBox([f_box, a_slider]),HBox([x_slider, n_slider]),\n",
    "      HBox([xmin_slider, xmax_slider]),HBox([ymin_slider, ymax_slider]),\n",
    "      HBox([ymin_slider2, ymax_slider2])], layout=box_layout)"
   ]
  }
 ],
 "metadata": {
  "autoscroll": "false",
  "celltoolbar": "Edit Metadata",
  "hide_input": false,
  "kernelspec": {
   "display_name": "Python 2",
   "language": "python",
   "name": "python2"
  },
  "language_info": {
   "codemirror_mode": {
    "name": "ipython",
    "version": 2
   },
   "file_extension": ".py",
   "mimetype": "text/x-python",
   "name": "python",
   "nbconvert_exporter": "python",
   "pygments_lexer": "ipython2",
   "version": "2.7.13"
  },
  "widgets": {
   "state": {
    "79d896fa1842461d91bf3945ffc9e745": {
     "views": [
      {
       "cell_index": 10
      }
     ]
    },
    "b622193a56a04e8f922a4396031adc58": {
     "views": [
      {
       "cell_index": 8
      }
     ]
    },
    "c42b0a0bdb99441295bd3ec2e02eb3f1": {
     "views": [
      {
       "cell_index": 6
      }
     ]
    },
    "c81f2c3f21e64da3895421afb0021cb9": {
     "views": [
      {
       "cell_index": 4
      }
     ]
    }
   },
   "version": "1.2.0"
  }
 },
 "nbformat": 4,
 "nbformat_minor": 0
}
